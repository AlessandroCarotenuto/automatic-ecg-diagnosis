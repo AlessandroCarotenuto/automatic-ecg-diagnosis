{
 "cells": [
  {
   "cell_type": "code",
   "execution_count": null,
   "metadata": {},
   "outputs": [],
   "source": [
    "import h5py\n",
    "import csv\n",
    "\n",
    "def hdf5_to_csv(hdf5_file, csv_file):\n",
    "    # Apre il file HDF5 in modalità lettura\n",
    "    with h5py.File(hdf5_file, 'r') as f:\n",
    "        # Accedi ai dati del tensore 3D (sostituisci 'nome_del_tensore' con il nome effettivo)\n",
    "        if 'tracings' in f:\n",
    "            dataset = f['tracings']\n",
    "            data = dataset[:]  # Ottieni tutti i dati del tensore\n",
    "\n",
    "            # Scrivi i dati in un file CSV\n",
    "            with open(csv_file, 'w', newline='') as csvfile:\n",
    "                csvwriter = csv.writer(csvfile)\n",
    "\n",
    "                # Scorrere i dati del tensore e scriverli nel file CSV\n",
    "                for i in range(data.shape[0]):\n",
    "                    for j in range(data.shape[1]):\n",
    "                        for k in range(data.shape[2]):\n",
    "                            csvwriter.writerow([i, j, k, data[i, j, k]])\n",
    "\n",
    "# Esempio di utilizzo\n",
    "hdf5_file = 'data\\ecg_tracings.hdf5'  # Sostituisci con il percorso del file HDF5\n",
    "csv_file = 'ecg_tracings.csv'    # Sostituisci con il percorso desiderato per il file CSV\n",
    "\n",
    "hdf5_to_csv(hdf5_file, csv_file)\n"
   ]
  },
  {
   "cell_type": "code",
   "execution_count": 1,
   "metadata": {},
   "outputs": [
    {
     "name": "stdout",
     "output_type": "stream",
     "text": [
      "Tipo di variabile: <class 'numpy.ndarray'>\n",
      "Dimensioni dell'array: (100, 6)\n",
      "Numero di dimensioni dell'array: 2\n",
      "Tipo di dati dell'array: float32\n"
     ]
    }
   ],
   "source": [
    "import numpy as np\n",
    "import pandas as pd\n",
    "\n",
    "# Specifica il percorso del file .npy\n",
    "file_path = 'dnn_output.npy'  # Sostituisci con il percorso del tuo file .npy\n",
    "\n",
    "# Apri il file .npy e leggi i dati\n",
    "data = np.load(file_path)\n",
    "\n",
    "# Ora puoi utilizzare la variabile 'data' per accedere ai dati contenuti nel file .npy\n",
    "# Verifica il tipo di variabile\n",
    "tipo_variabile = type(data)\n",
    "\n",
    "# Verifica se la variabile è un array NumPy\n",
    "if isinstance(data, np.ndarray):\n",
    "    # Verifica le dimensioni dell'array\n",
    "    dimensioni = data.shape\n",
    "    numero_dimensioni = data.ndim\n",
    "    tipo_dati = data.dtype\n",
    "else:\n",
    "    print(\"La variabile non è un array NumPy.\")\n",
    "\n",
    "print(\"Tipo di variabile:\", tipo_variabile)\n",
    "if isinstance(data, np.ndarray):\n",
    "    print(\"Dimensioni dell'array:\", dimensioni)\n",
    "    print(\"Numero di dimensioni dell'array:\", numero_dimensioni)\n",
    "    print(\"Tipo di dati dell'array:\", tipo_dati)\n",
    "\n",
    "# Creazione di un DataFrame da array bidimensionale\n",
    "df = pd.DataFrame(data)\n",
    "\n",
    "# Visualizzazione dei dati\n",
    "# print(df)\n",
    "\n",
    "df.to_csv('dnn_predicts.csv', index=False)\n",
    "\n",
    "# Visualizza le prime 5 righe del DataFrame\n",
    "df = pd.read_csv('dnn_predicts.csv')\n",
    "# print(df.head())\n"
   ]
  }
 ],
 "metadata": {
  "kernelspec": {
   "display_name": "Python 3",
   "language": "python",
   "name": "python3"
  },
  "language_info": {
   "codemirror_mode": {
    "name": "ipython",
    "version": 3
   },
   "file_extension": ".py",
   "mimetype": "text/x-python",
   "name": "python",
   "nbconvert_exporter": "python",
   "pygments_lexer": "ipython3",
   "version": "3.11.4"
  },
  "orig_nbformat": 4
 },
 "nbformat": 4,
 "nbformat_minor": 2
}
